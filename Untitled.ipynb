{
 "cells": [
  {
   "cell_type": "code",
   "execution_count": null,
   "id": "f8c5f150",
   "metadata": {},
   "outputs": [],
   "source": [
    "#!/bin/bash\n",
    "source /usr/local/anaconda3/condabin/conda\n",
    "conda activate poppy-linux\n",
    "\n",
    "\n",
    "while getopts s:d:y:c:m: flag\n",
    "do\n",
    "    case \"${flag}\" in\n",
    "        s) shp=${OPTARG};;\n",
    "        d) data=${OPTARG};;\n",
    "        y) year=${OPTARG};;\n",
    "        c) cores=${OPTARG};;\n",
    "        m) model=${OPTARG};;\n",
    "    esac\n",
    "done"
   ]
  }
 ],
 "metadata": {
  "kernelspec": {
   "display_name": "Python 3",
   "language": "python",
   "name": "python3"
  },
  "language_info": {
   "codemirror_mode": {
    "name": "ipython",
    "version": 3
   },
   "file_extension": ".py",
   "mimetype": "text/x-python",
   "name": "python",
   "nbconvert_exporter": "python",
   "pygments_lexer": "ipython3",
   "version": "3.9.12"
  }
 },
 "nbformat": 4,
 "nbformat_minor": 5
}
