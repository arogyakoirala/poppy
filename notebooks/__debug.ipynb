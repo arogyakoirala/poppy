{
 "cells": [
  {
   "cell_type": "code",
   "execution_count": 48,
   "id": "8c9c4390",
   "metadata": {},
   "outputs": [],
   "source": [
    "from utils.shapefile import ShapefileHelper\n",
    "from utils.rasters import RasterGenerationHelper, MergeRasterSingleAoi, Masker, Sampler\n",
    "from utils.bestdates import BestDatesHelper\n",
    "from utils.data import DataHelper\n",
    "import multiprocessing\n",
    "import argparse\n",
    "import os\n",
    "import shutil \n",
    "from pathlib import Path\n",
    "\n",
    "#%% Define Parameters\n",
    "DATA_DIR = '../data'\n",
    "\n",
    "YEAR = 2021\n",
    "SHP_PATH = f'../data/inputs/aoi.gpkg'\n",
    "UPTO = 'prep_data'\n",
    "FROM = 'grid'\n",
    "N_CORES = 1\n",
    "SAMPLE_SIZE = 1.0\n",
    "\n",
    "# # Get parent and child grids\n",
    "_RESOLUTION_P = 2500\n",
    "_RESOLUTION_C = 250\n",
    "_VECTOR_OUTPUT_DIR = f'{DATA_DIR}/interim'\n",
    "\n",
    "_BEST_DATES_PATH = f'{DATA_DIR}/inputs/best_dates_2021.csv'\n",
    "_PATH_TO_CHILD_GRID = f'{_VECTOR_OUTPUT_DIR}/child.gpkg'"
   ]
  },
  {
   "cell_type": "code",
   "execution_count": 49,
   "id": "349a4203",
   "metadata": {},
   "outputs": [
    {
     "data": {
      "text/plain": [
       "Index(['Unnamed: 0', 'Latitude', 'Longitude', 'Best Start Date 2021',\n",
       "       'Best End Date 2021', 'Peak NDVI 2021', 'Best Start Date 2022',\n",
       "       'Best End Date 2022', 'Peak NDVI 2022'],\n",
       "      dtype='object')"
      ]
     },
     "execution_count": 49,
     "metadata": {},
     "output_type": "execute_result"
    }
   ],
   "source": [
    "# pd.read_csv(f'{DATA_DIR}/inputs/best_dates_2022.csv').columns"
   ]
  },
  {
   "cell_type": "code",
   "execution_count": 50,
   "id": "07bd81cd",
   "metadata": {},
   "outputs": [
    {
     "data": {
      "text/plain": [
       "Index(['Unnamed: 0', 'Latitude', 'Longitude', 'Best Start Date 2021',\n",
       "       'Best End Date 2021', 'Peak NDVI 2021', 'Best Start Date 2022',\n",
       "       'Best End Date 2022', 'Peak NDVI 2022'],\n",
       "      dtype='object')"
      ]
     },
     "execution_count": 50,
     "metadata": {},
     "output_type": "execute_result"
    }
   ],
   "source": [
    "# pd.read_csv(f'{DATA_DIR}/inputs/best_dates_2021.csv').columns"
   ]
  },
  {
   "cell_type": "code",
   "execution_count": 51,
   "id": "1b133b86",
   "metadata": {},
   "outputs": [
    {
     "data": {
      "text/plain": [
       "Index(['Unnamed: 0', 'Latitude', 'Longitude', 'Best Start Date 2014',\n",
       "       'Best End Date 2014', 'Peak NDVI 2014', 'Best Start Date 2015',\n",
       "       'Best End Date 2015', 'Peak NDVI 2015', 'Best Start Date 2016',\n",
       "       'Best End Date 2016', 'Peak NDVI 2016', 'Best Start Date 2017',\n",
       "       'Best End Date 2017', 'Peak NDVI 2017', 'Best Start Date 2018',\n",
       "       'Best End Date 2018', 'Peak NDVI 2018', 'Best Start Date 2019',\n",
       "       'Best End Date 2019', 'Peak NDVI 2019', 'Best Start Date 2020',\n",
       "       'Best End Date 2020', 'Peak NDVI 2020'],\n",
       "      dtype='object')"
      ]
     },
     "execution_count": 51,
     "metadata": {},
     "output_type": "execute_result"
    }
   ],
   "source": [
    "# pd.read_csv(f'{DATA_DIR}/inputs/best_dates_2020.csv').columns"
   ]
  },
  {
   "cell_type": "code",
   "execution_count": 52,
   "id": "973c4694",
   "metadata": {},
   "outputs": [
    {
     "name": "stdout",
     "output_type": "stream",
     "text": [
      "--- Generating grids...\n",
      "--------- Generating grid at 2500mx2500m ...\n",
      "--------- Grid generation complete. Saving to disk...\n",
      "--------- Successfully saved to disk: ../data/interim/parent.gpkg\n",
      "--------- Generating grid at 250mx250m ...\n",
      "--------- Grid generation complete. Saving to disk...\n",
      "--------- Successfully saved to disk: ../data/interim/child.gpkg\n",
      "------ Readying data..\n",
      "------ 3804 entries with one start date..\n",
      "------ 120 entries with two or zero start dates..\n",
      "------ Filling missing dates using K-Nearest Neighbour Algorithm at k=8\n",
      "------ Model fitting complete..\n",
      "------ Performing model diagnostics..\n",
      "------ Diagnosis: Perfoming 10 fold cross validation\n",
      "--------- Accuracy at iteration 1: 0.6167979002624672\n",
      "--------- Accuracy at iteration 2: 0.7401574803149606\n",
      "--------- Accuracy at iteration 3: 0.7769028871391076\n",
      "--------- Accuracy at iteration 4: 0.7034120734908137\n",
      "--------- Accuracy at iteration 5: 0.6605263157894737\n",
      "--------- Accuracy at iteration 6: 0.7\n",
      "--------- Accuracy at iteration 7: 0.6763157894736842\n",
      "--------- Accuracy at iteration 8: 0.6368421052631579\n",
      "--------- Accuracy at iteration 9: 0.5868421052631579\n",
      "--------- Accuracy at iteration 10: 0.6263157894736842\n",
      "------ Mean accuracy at k=8 is : 0.6724112446470507\n",
      "------ Successfully saved to disk: ../data/interim/child.gpkg\n"
     ]
    }
   ],
   "source": [
    "\n",
    "\n",
    "print(\"--- Generating grids...\")\n",
    "sh = ShapefileHelper(SHP_PATH, _VECTOR_OUTPUT_DIR)\n",
    "sh.make_grid(resolution=_RESOLUTION_P, name=\"parent\", id_col=\"pgrid_id\")\n",
    "sh.make_grid(resolution=_RESOLUTION_C, name=\"child\")\n",
    "\n",
    "    \n",
    "bd = BestDatesHelper(_BEST_DATES_PATH, _PATH_TO_CHILD_GRID, _VECTOR_OUTPUT_DIR, \"child\", YEAR, diagnose=True)\n",
    "bd.fill_empty_dates()"
   ]
  },
  {
   "cell_type": "code",
   "execution_count": 15,
   "id": "b62e2b70",
   "metadata": {},
   "outputs": [],
   "source": [
    "columns = ['GRID_ID', 'Latitude', 'Longitude', 'geometry']\n",
    "columns.extend(data.filter(like=str(YEAR), axis=1).columns.tolist())"
   ]
  },
  {
   "cell_type": "code",
   "execution_count": 16,
   "id": "73f85d01",
   "metadata": {},
   "outputs": [
    {
     "data": {
      "text/plain": [
       "['GRID_ID',\n",
       " 'Latitude',\n",
       " 'Longitude',\n",
       " 'geometry',\n",
       " 'Best Start Date 2020',\n",
       " 'Best End Date 2020',\n",
       " 'Peak NDVI 2020']"
      ]
     },
     "execution_count": 16,
     "metadata": {},
     "output_type": "execute_result"
    }
   ],
   "source": [
    "columns"
   ]
  },
  {
   "cell_type": "code",
   "execution_count": 53,
   "id": "26b04e4c",
   "metadata": {},
   "outputs": [
    {
     "data": {
      "text/plain": [
       "3694476"
      ]
     },
     "execution_count": 53,
     "metadata": {},
     "output_type": "execute_result"
    }
   ],
   "source": [
    "3694476"
   ]
  },
  {
   "cell_type": "code",
   "execution_count": null,
   "id": "4e7ec091",
   "metadata": {},
   "outputs": [],
   "source": []
  }
 ],
 "metadata": {
  "kernelspec": {
   "display_name": "Python 3",
   "language": "python",
   "name": "python3"
  },
  "language_info": {
   "codemirror_mode": {
    "name": "ipython",
    "version": 3
   },
   "file_extension": ".py",
   "mimetype": "text/x-python",
   "name": "python",
   "nbconvert_exporter": "python",
   "pygments_lexer": "ipython3",
   "version": "3.9.12"
  }
 },
 "nbformat": 4,
 "nbformat_minor": 5
}
