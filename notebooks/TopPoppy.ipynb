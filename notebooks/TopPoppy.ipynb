{
 "cells": [
  {
   "cell_type": "code",
   "execution_count": 1,
   "id": "2a26fd81",
   "metadata": {},
   "outputs": [],
   "source": [
    "import pandas as pd\n",
    "pd.set_option('display.max_rows', 500)\n",
    "\n",
    "import os\n",
    "\n",
    "year = 2021\n",
    "df = pd.read_csv(\"../inputs/poppy_1994-2021.csv\")"
   ]
  },
  {
   "cell_type": "code",
   "execution_count": 2,
   "id": "a35b1372",
   "metadata": {},
   "outputs": [],
   "source": [
    "def get_quintile_dists(df ,year, quintile):\n",
    "    df = df[['distid', f'X{year}']].dropna()\n",
    "    df.columns = ['distid', 'poppy']\n",
    "    df['quintile'] = pd.qcut(df['poppy'], 4, labels=range(4))\n",
    "    return df[df['quintile']==quintile].sort_values(['poppy','quintile'], ascending=False)['distid'].to_list()"
   ]
  },
  {
   "cell_type": "code",
   "execution_count": 3,
   "id": "e86a16ac",
   "metadata": {},
   "outputs": [],
   "source": [
    "dists_2019_3 = get_quintile_dists(df, 2019, 3)\n",
    "dists_2020_3 = get_quintile_dists(df, 2020, 3)\n",
    "dists_2021_3 = get_quintile_dists(df, 2021, 3)\n",
    "dists_2019_2 = get_quintile_dists(df, 2019, 2)"
   ]
  },
  {
   "cell_type": "code",
   "execution_count": 12,
   "id": "8daaa061",
   "metadata": {},
   "outputs": [
    {
     "data": {
      "text/plain": [
       "[1103,\n",
       " 2309,\n",
       " 1903,\n",
       " 1803,\n",
       " 1904,\n",
       " 2405,\n",
       " 813,\n",
       " 2102,\n",
       " 905,\n",
       " 805,\n",
       " 1102,\n",
       " 1124,\n",
       " 2103,\n",
       " 3404,\n",
       " 1808,\n",
       " 1907,\n",
       " 2602,\n",
       " 1015,\n",
       " 2006,\n",
       " 3101,\n",
       " 1014,\n",
       " 1703,\n",
       " 1701,\n",
       " 3102,\n",
       " 1804,\n",
       " 2404,\n",
       " 3409,\n",
       " 112,\n",
       " 901,\n",
       " 815,\n",
       " 2505,\n",
       " 2709,\n",
       " 903,\n",
       " 1302,\n",
       " 2707,\n",
       " 3402]"
      ]
     },
     "execution_count": 12,
     "metadata": {},
     "output_type": "execute_result"
    }
   ],
   "source": [
    "dists_2019_2"
   ]
  },
  {
   "cell_type": "code",
   "execution_count": 13,
   "id": "c981b88b",
   "metadata": {},
   "outputs": [
    {
     "data": {
      "text/plain": [
       "[2304,\n",
       " 2305,\n",
       " 2306,\n",
       " 2307,\n",
       " 2308,\n",
       " 2309,\n",
       " 901,\n",
       " 2311,\n",
       " 2312,\n",
       " 2313,\n",
       " 905,\n",
       " 1803,\n",
       " 1804,\n",
       " 903,\n",
       " 1808,\n",
       " 2705,\n",
       " 2706,\n",
       " 2707,\n",
       " 2709,\n",
       " 1302,\n",
       " 2205,\n",
       " 3101,\n",
       " 3102,\n",
       " 3106,\n",
       " 804,\n",
       " 805,\n",
       " 1701,\n",
       " 1703,\n",
       " 2601,\n",
       " 809,\n",
       " 2603,\n",
       " 2604,\n",
       " 2605,\n",
       " 813,\n",
       " 1711,\n",
       " 2602,\n",
       " 815,\n",
       " 2102,\n",
       " 2103,\n",
       " 2105,\n",
       " 2106,\n",
       " 2111,\n",
       " 1606,\n",
       " 1607,\n",
       " 1608,\n",
       " 2505,\n",
       " 2506,\n",
       " 3402,\n",
       " 3404,\n",
       " 1102,\n",
       " 1103,\n",
       " 3409,\n",
       " 2006,\n",
       " 1115,\n",
       " 1116,\n",
       " 2403,\n",
       " 1124,\n",
       " 2405,\n",
       " 2406,\n",
       " 2407,\n",
       " 2408,\n",
       " 2404,\n",
       " 2415,\n",
       " 2416,\n",
       " 1905,\n",
       " 1906,\n",
       " 1903,\n",
       " 1904,\n",
       " 1907,\n",
       " 1014,\n",
       " 1015,\n",
       " 112,\n",
       " 2301,\n",
       " 2302,\n",
       " 2303]"
      ]
     },
     "execution_count": 13,
     "metadata": {},
     "output_type": "execute_result"
    }
   ],
   "source": [
    "list(set(dists_2019_3 + dists_2020_3 + dists_2021_3 + dists_2019_2))"
   ]
  },
  {
   "cell_type": "code",
   "execution_count": null,
   "id": "711b8eb1",
   "metadata": {},
   "outputs": [],
   "source": []
  }
 ],
 "metadata": {
  "kernelspec": {
   "display_name": "Python 3 (ipykernel)",
   "language": "python",
   "name": "python3"
  },
  "language_info": {
   "codemirror_mode": {
    "name": "ipython",
    "version": 3
   },
   "file_extension": ".py",
   "mimetype": "text/x-python",
   "name": "python",
   "nbconvert_exporter": "python",
   "pygments_lexer": "ipython3",
   "version": "3.9.6"
  }
 },
 "nbformat": 4,
 "nbformat_minor": 5
}
