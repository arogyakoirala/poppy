{
 "cells": [
  {
   "cell_type": "code",
   "execution_count": 62,
   "id": "656a7adc",
   "metadata": {},
   "outputs": [],
   "source": [
    "import rasterio\n",
    "import geopandas as gpd\n",
    "from rasterio.mask import mask\n",
    "import numpy as np\n",
    "from rasterio import features\n",
    "from shapely.geometry import mapping, shape\n",
    "\n",
    "\n",
    "class Masker:\n",
    "    def __init__(self, data_dir, input_shp, input_raster, mask_raster):\n",
    "        self.input_raster = rasterio.open(input_raster)\n",
    "        self.input_shp = gpd.read_file(input_shp)\n",
    "        self.mask_raster = rasterio.open(mask_raster)\n",
    "        self.data_dir = data_dir\n",
    "        \n",
    "    def mask(self, filename=\"masked\"):\n",
    "        out_img, out_transform = mask(self.mask_raster, shapes=self.input_shp.geometry, crop=True)\n",
    "        out_img[out_img == 0.0] = 255\n",
    "        is_valid = (out_img != 255.0).astype(np.uint8)\n",
    "#         return is_valid\n",
    "        cropland = []\n",
    "        for coords, value in features.shapes(is_valid, transform=out_transform):\n",
    "#             print(value)\n",
    "#             if value != 0:\n",
    "            geom = shape(coords)\n",
    "            cropland.append({\"geometry\": geom, \"value\" : value})\n",
    "                \n",
    "        cropland = gpd.GeoDataFrame(cropland).set_crs(\"epsg:4326\")\n",
    "        cropland = cropland[cropland['value']==1]\n",
    "#         return cropland\n",
    "        out_img, out_transform = mask(self.input_raster, cropland.geometry, crop=True)\n",
    "#         return out_img\n",
    "        out_img[np.isnan(out_img)] = 0\n",
    "        out_img = out_img[0:24]\n",
    "        with rasterio.open(\n",
    "            f'{self.data_dir}/interim/{filename}.tif',\n",
    "            'w',\n",
    "            driver='GTiff',\n",
    "            height=out_img.shape[1],\n",
    "            width=out_img.shape[2],\n",
    "            count=out_img.shape[0],\n",
    "            dtype='float32',\n",
    "            crs=self.input_raster.crs,\n",
    "            transform=out_transform,\n",
    "        ) as dst:\n",
    "            dst.write(out_img[0:24])\n"
   ]
  },
  {
   "cell_type": "code",
   "execution_count": 63,
   "id": "32490d40",
   "metadata": {},
   "outputs": [],
   "source": [
    "msk = Masker(\"../../data\", \"../../data/inputs/aoi.gpkg\", \"../../data/interim/temp.tif\", \"/data/tmp/arogya/data/inputs/updated_mask.tif\")"
   ]
  },
  {
   "cell_type": "code",
   "execution_count": 64,
   "id": "70d5f477",
   "metadata": {},
   "outputs": [],
   "source": [
    "crop = msk.mask()\n",
    "# crop[crop['value']==1].plot()\n",
    "# msk.mask()[msk.mask()['value'==1]].plot()"
   ]
  },
  {
   "cell_type": "code",
   "execution_count": null,
   "id": "1f8262c1",
   "metadata": {},
   "outputs": [],
   "source": []
  }
 ],
 "metadata": {
  "kernelspec": {
   "display_name": "Python 3",
   "language": "python",
   "name": "python3"
  },
  "language_info": {
   "codemirror_mode": {
    "name": "ipython",
    "version": 3
   },
   "file_extension": ".py",
   "mimetype": "text/x-python",
   "name": "python",
   "nbconvert_exporter": "python",
   "pygments_lexer": "ipython3",
   "version": "3.9.12"
  }
 },
 "nbformat": 4,
 "nbformat_minor": 5
}
