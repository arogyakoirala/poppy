{
 "cells": [
  {
   "cell_type": "code",
   "execution_count": 10,
   "id": "6979789d",
   "metadata": {},
   "outputs": [
    {
     "name": "stdout",
     "output_type": "stream",
     "text": [
      "Starting process for 2416, there are 4 tiles: [0, 1, 2, 3]\n",
      "['0.tif', '1.tif', '2.tif', '3.tif']\n"
     ]
    }
   ],
   "source": [
    "# import os\n",
    "\n",
    "# DATA_DIR=\"../../datatemp\"\n",
    "# DNQ_DIR=f\"{DATA_DIR}/interim/dnq\"\n",
    "\n",
    "# folders = sorted([d for d in os.listdir(DNQ_DIR) if \".gpkg\" not in d])\n",
    "\n",
    "\n",
    "# successfull = \"but moving on..\"\n",
    "\n",
    "# def check(i):\n",
    "#     d = folders[i]\n",
    "#     f = f\"{DNQ_DIR}/{d}/log.txt\"\n",
    "#     with open(f, 'r') as f2:\n",
    "#         if 'but moving' in f2.read():\n",
    "#             return True\n",
    "#         return False\n",
    "# count=0\n",
    "# missing=[]\n",
    "# i_s = []\n",
    "# for i in range(1150):\n",
    "#     if check(i):\n",
    "#         count+=1\n",
    "#         missing.append(folders[i])\n",
    "#         i_s.append(i)\n",
    "# DISTRICTS = [\"1904\", \"2308\", \"2304\", \"1906\", \"1907\",  \"2004\", \"2006\",  \"2012\", \"2014\", \"2101\", \"2102\", \"2103\",  \"2105\", \"2106\",  \"2108\", \"2109\", \"2111\", \"2203\", \"2205\", \"2301\", \"2302\", \"2303\", \"2304\", \"2307\", \"2309\", \"2310\", \"2311\", \"2312\", \"2313\", \"2401\", \"2402\", \"2403\", \"2404\", \"2405\", \"2406\", \"2407\", \"2408\", \"2411\", \"2412\", \"2413\", \"2415\", \"2416\",   \"2505\",  \"2507\", \"2601\", \"2602\", \"2603\", \"2604\", \"2605\",  \"2702\", \"2703\", \"2705\", \"2706\", \"2707\", \"2709\", \"2710\", \"3101\", \"3102\", \"3103\",  \"3106\",  \"3401\", \"3402\",  \"3404\",  \"3407\", \"3408\", \"3409\"]\n",
    "\n",
    "missing = []\n",
    "import geopandas as gpd\n",
    "import os\n",
    "import multiprocessing as mp\n",
    "import numpy as np\n",
    "from pathlib import Path\n",
    "import shutil\n",
    "\n",
    "DISTRICTS = [\"2416\"]\n",
    "\n",
    "\n",
    "MERGED_PREDICTIONS_DIR = '../../datatemp/merged'\n",
    "Path(MERGED_PREDICTIONS_DIR).mkdir(parents=True, exist_ok=True)\n",
    "\n",
    "for dist in DISTRICTS:\n",
    "    DATA_DIR = '../../datatemp'\n",
    "    GRID = '../../datatemp/interim/grid.gpkg'\n",
    "    SHP = f'/data/tmp/arogya/tmp/inputs/{dist}.gpkg'\n",
    "    YEAR = '2019'\n",
    "    MODEL_PATH = '/data/tmp/arogya/data/outputs/models/kmeans_3_diff_bands'\n",
    "\n",
    "    \n",
    "    grid = gpd.read_file(GRID)\n",
    "    shp = gpd.read_file(SHP)\n",
    "    joined = grid.sjoin(shp)\n",
    "    grid_ids = list(joined['grid_id'])\n",
    "    print(f\"Starting process for {dist}, there are {len(grid_ids)} tiles: {grid_ids}\")\n",
    "\n",
    "    DIST_DIR = f\"{MERGED_PREDICTIONS_DIR}/{dist}\"\n",
    "    if os.path.exists(DIST_DIR):\n",
    "        shutil.rmtree(DIST_DIR)\n",
    "    Path(DIST_DIR).mkdir(parents=True, exist_ok=True)\n",
    "    \n",
    "    for tile in grid_ids:\n",
    "        \n",
    "        if tile in missing:\n",
    "            print(f\"Encountered missing tile ID: {tile}, moving on..\")\n",
    "        else:\n",
    "            shutil.copyfile(f\"../../datatemp/interim/dnq/{tile}/outputs/predictions/kmeans_3_diff_bands/kmeans_3_diff_bands.tif\", f\"{MERGED_PREDICTIONS_DIR}/{dist}/{tile}.tif\")\n",
    "    print(os.listdir(f\"{DIST_DIR}\"))\n",
    "    os.system(f'find {DIST_DIR}  -maxdepth 1 -name \"*.tif\" -print0 | xargs -0 gdalbuildvrt -srcnodata \"-99\" {DIST_DIR}/merged.vrt')\n",
    "    os.system(f'gdal_merge.py -o {DIST_DIR}/merged.tif {DIST_DIR}/merged.vrt')\n",
    "#            DATA_DIR_ = f\"/data/tmp/arogya/tmp/interim/dnq/{tile}\"\n",
    "#             SHP_PATH_ = f\"/data/tmp/arogya/tmp/interim/{tile}.gpkg\"\n",
    "#             DATA_FILE_SUFFIX = \"diff_bands\"\n",
    "#             TILES_PATH = f\"{DATA_DIR_}/interim/tiles\"\n",
    "#             NAME = MODEL_PATH.split(\"/\")[-1]\n",
    "#             SKIP_RASTER_GENERATION = False\n",
    "#             N = 3\n",
    "#             MODEL_TYPE = 'kmeans'    \n",
    "#     #         os.system(f\"python -u poppy-predict.py {DATA_DIR_} {SHP_PATH_} {MODEL_PATH}\")\n",
    "#     print(f\"###### FINISHED PREDICTING FOR: {dist}\")\n"
   ]
  },
  {
   "cell_type": "code",
   "execution_count": 5,
   "id": "7d746125",
   "metadata": {},
   "outputs": [
    {
     "data": {
      "text/plain": [
       "['kmeans_3_diff_bands.csv',\n",
       " 'kmeans_3_diff_bands.png',\n",
       " 'kmeans_3_diff_bands.tif']"
      ]
     },
     "execution_count": 5,
     "metadata": {},
     "output_type": "execute_result"
    }
   ],
   "source": [
    "os.listdir(f\"/data/tmp/arogya/tmp/interim/dnq/{tile}/outputs/predictions/kmeans_3_diff_bands/kmeans_3_diff_bands.tif\")"
   ]
  },
  {
   "cell_type": "code",
   "execution_count": 21,
   "id": "37b4bd78",
   "metadata": {},
   "outputs": [],
   "source": [
    "shps = [f for f in os.listdir(\"/data/tmp/arogya/data/inputs/districts/districts/\")]"
   ]
  },
  {
   "cell_type": "code",
   "execution_count": 22,
   "id": "f67570bf",
   "metadata": {},
   "outputs": [
    {
     "data": {
      "text/plain": [
       "146"
      ]
     },
     "execution_count": 22,
     "metadata": {},
     "output_type": "execute_result"
    }
   ],
   "source": [
    "len(files)"
   ]
  },
  {
   "cell_type": "code",
   "execution_count": 16,
   "id": "fe1c5acf",
   "metadata": {},
   "outputs": [
    {
     "data": {
      "text/html": [
       "<div>\n",
       "<style scoped>\n",
       "    .dataframe tbody tr th:only-of-type {\n",
       "        vertical-align: middle;\n",
       "    }\n",
       "\n",
       "    .dataframe tbody tr th {\n",
       "        vertical-align: top;\n",
       "    }\n",
       "\n",
       "    .dataframe thead th {\n",
       "        text-align: right;\n",
       "    }\n",
       "</style>\n",
       "<table border=\"1\" class=\"dataframe\">\n",
       "  <thead>\n",
       "    <tr style=\"text-align: right;\">\n",
       "      <th></th>\n",
       "      <th>DISTID</th>\n",
       "      <th>OBJECTID</th>\n",
       "      <th>PROV_34_NA</th>\n",
       "      <th>DIST_34_NA</th>\n",
       "      <th>PROVID</th>\n",
       "      <th>poppy_ha</th>\n",
       "      <th>ag_ha</th>\n",
       "      <th>poppy_perc</th>\n",
       "      <th>quantile</th>\n",
       "      <th>rank</th>\n",
       "      <th>layer</th>\n",
       "      <th>path</th>\n",
       "      <th>geometry</th>\n",
       "    </tr>\n",
       "  </thead>\n",
       "  <tbody>\n",
       "    <tr>\n",
       "      <th>0</th>\n",
       "      <td>1001</td>\n",
       "      <td>177</td>\n",
       "      <td>Kunar</td>\n",
       "      <td>Asadabad</td>\n",
       "      <td>10</td>\n",
       "      <td>57</td>\n",
       "      <td>359.89</td>\n",
       "      <td>0.1583817277501459</td>\n",
       "      <td>8</td>\n",
       "      <td>27</td>\n",
       "      <td>1001</td>\n",
       "      <td>/Users/arogyak/aois/select/1001.gpkg|layername...</td>\n",
       "      <td>MULTIPOLYGON (((63.35380 31.27943, 63.36215 31...</td>\n",
       "    </tr>\n",
       "  </tbody>\n",
       "</table>\n",
       "</div>"
      ],
      "text/plain": [
       "  DISTID OBJECTID PROV_34_NA DIST_34_NA PROVID poppy_ha   ag_ha  \\\n",
       "0   1001      177      Kunar   Asadabad     10       57  359.89   \n",
       "\n",
       "           poppy_perc quantile rank layer  \\\n",
       "0  0.1583817277501459        8   27  1001   \n",
       "\n",
       "                                                path  \\\n",
       "0  /Users/arogyak/aois/select/1001.gpkg|layername...   \n",
       "\n",
       "                                            geometry  \n",
       "0  MULTIPOLYGON (((63.35380 31.27943, 63.36215 31...  "
      ]
     },
     "execution_count": 16,
     "metadata": {},
     "output_type": "execute_result"
    }
   ],
   "source": [
    "gpd.read_file(\"/data/tmp/arogya/data/inputs/districts/\")"
   ]
  },
  {
   "cell_type": "code",
   "execution_count": null,
   "id": "5feb64d2",
   "metadata": {},
   "outputs": [],
   "source": []
  }
 ],
 "metadata": {
  "kernelspec": {
   "display_name": "Python 3",
   "language": "python",
   "name": "python3"
  },
  "language_info": {
   "codemirror_mode": {
    "name": "ipython",
    "version": 3
   },
   "file_extension": ".py",
   "mimetype": "text/x-python",
   "name": "python",
   "nbconvert_exporter": "python",
   "pygments_lexer": "ipython3",
   "version": "3.9.12"
  }
 },
 "nbformat": 4,
 "nbformat_minor": 5
}
