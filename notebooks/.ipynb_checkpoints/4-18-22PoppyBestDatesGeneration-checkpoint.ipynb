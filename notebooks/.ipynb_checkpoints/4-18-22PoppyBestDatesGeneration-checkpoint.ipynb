{
 "cells": [
  {
   "cell_type": "code",
   "execution_count": null,
   "id": "28c36204",
   "metadata": {},
   "outputs": [],
   "source": [
    "# this code: modifies Tej's code to only include dates in the first half of the year \n",
    "# previously: 23 16-day periods\n",
    "# now: 11 16-day periods, 176 days until ~ June 25"
   ]
  },
  {
   "cell_type": "code",
   "execution_count": 1,
   "id": "618aeb96",
   "metadata": {},
   "outputs": [
    {
     "name": "stderr",
     "output_type": "stream",
     "text": [
      "*** Earth Engine *** FINAL DEADLINE: ee.Authenticate will fail after 2022-06-06. Please upgrade. https://developers.google.com/earth-engine/guides/python_install\n"
     ]
    }
   ],
   "source": [
    "import ee\n",
    "\n",
    "try:\n",
    "        ee.Initialize()\n",
    "except Exception as e:\n",
    "        ee.Authenticate()\n",
    "        ee.Initialize()"
   ]
  },
  {
   "cell_type": "code",
   "execution_count": 2,
   "id": "04386103",
   "metadata": {},
   "outputs": [],
   "source": [
    "import numpy as np\n",
    "import pandas as pd\n",
    "# import matplotlib.pyplot as plt \n",
    "import geopandas as gpd\n",
    "# import folium\n",
    "import json\n",
    "import os\n",
    "import csv\n",
    "\n",
    "# import matplotlib as mpl\n",
    "\n",
    "# import matplotlib.animation as animation\n",
    "# from multiprocessing import Pool\n",
    "from datetime import datetime, timedelta"
   ]
  },
  {
   "cell_type": "code",
   "execution_count": 3,
   "id": "686eb2fd",
   "metadata": {},
   "outputs": [],
   "source": [
    "# ee_afg=ee.FeatureCollection(\"FAO/GAUL/2015/level0\").filter(ee.Filter.eq('ADM0_NAME', 'Afghanistan'))\n",
    "# ee_hilmand=ee.FeatureCollection(\"FAO/GAUL_SIMPLIFIED_500m/2015/level1\").filter(ee.Filter.eq('ADM1_NAME', 'Hilmand'))\n",
    "# ee_hilmand_dist=ee.FeatureCollection(\"FAO/GAUL_SIMPLIFIED_500m/2015/level2\").filter(ee.Filter.eq('ADM1_NAME', 'Hilmand'))"
   ]
  },
  {
   "cell_type": "code",
   "execution_count": 4,
   "id": "5aed5acc",
   "metadata": {},
   "outputs": [],
   "source": [
    "# afg_shp=gpd.read_file('district398/district398.shp')\n",
    "tiles_25 = gpd.read_file('/data/afg_satellite/Grids/AFG_025_grid.shp')"
   ]
  },
  {
   "cell_type": "code",
   "execution_count": 5,
   "id": "95d078c8",
   "metadata": {},
   "outputs": [],
   "source": [
    "def shp_to_fc(file)->ee.FeatureCollection:\n",
    "    \"\"\"\n",
    "    convert simple polygon/ shapefile to earth engine feature collection\n",
    "    Note: doesn't seem to work very well with disjoint polygons/ nested polygons\n",
    "    \"\"\"\n",
    "    g = [i for i in file.geometry]\n",
    "    features=[]\n",
    "    for i in range(len(g)):\n",
    "        g = [i for i in file.geometry]\n",
    "        x,y = g[i].exterior.coords.xy\n",
    "        cords = np.dstack((x,y)).tolist()\n",
    "\n",
    "        g=ee.Geometry.Polygon(cords)\n",
    "        feature = ee.Feature(g)\n",
    "        features.append(feature)\n",
    "#     print(\"done\")\n",
    "\n",
    "    ee_object = ee.FeatureCollection(features)\n",
    "    return ee_object"
   ]
  },
  {
   "cell_type": "code",
   "execution_count": 6,
   "id": "de2de4ae",
   "metadata": {},
   "outputs": [],
   "source": [
    "# Does all the work needed, taking an input of a specific tile number, and the year to request data for,\n",
    "# and returning an eeList of each pixel and their peak NDVI timestep.\n",
    "# Takes about 8 seconds to run for a given tile and year\n",
    "\n",
    "def imagetobands(tile, year):\n",
    "    top = tiles_25.iloc[tile][\"top\"]\n",
    "    bottom = tiles_25.iloc[tile][\"bottom\"]\n",
    "    left = tiles_25.iloc[tile][\"left\"]\n",
    "    right = tiles_25.iloc[tile][\"right\"]\n",
    "    tilegeo = shp_to_fc(tiles_25[tiles_25.index==tile]).geometry()\n",
    "\n",
    "#     dates=[datetime(year, 1, 1) + timedelta(i - 1) for i in range(1, 370, 16)]\n",
    "    dates=[datetime(year, 1, 1) + timedelta(i - 1) for i in range(1, 170, 16)]\n",
    "    date_range=[(x, y) for x, y in zip(dates[:-1], [date-timedelta(1) for date in dates[1:]])]\n",
    "    just_dates = []\n",
    "    for start, end in date_range:\n",
    "        stad=start.date().strftime('%Y-%m-%d')\n",
    "        endd=end.date().strftime('%Y-%m-%d')\n",
    "        stadendd = (stad, endd)\n",
    "        just_dates.append(stadendd)\n",
    "        \n",
    "    images = []\n",
    "    for timeper in just_dates:\n",
    "        # update 8/29/22: version 6 has been updated to version 6.1: https://lpdaac.usgs.gov/products/mod13q1v061/\n",
    "        mod_dataset=ee.ImageCollection('MODIS/061/MOD13Q1').filter(ee.Filter.date(timeper[0], timeper[1])).filter(ee.Filter.bounds(tilegeo))\n",
    "#         mod_dataset=ee.ImageCollection('MODIS/006/MOD13Q1').filter(ee.Filter.date(timeper[0], timeper[1])).filter(ee.Filter.bounds(tilegeo))\n",
    "        mod_dataset_NDVI = mod_dataset.select(\"NDVI\")\n",
    "        mod_image_NDVI = mod_dataset_NDVI.first()\n",
    "        mod_image_NDVI_U = mod_image_NDVI.unmask(-9999)\n",
    "        images.append(mod_image_NDVI_U)\n",
    "        \n",
    "    clips = [] \n",
    "    for image in images:\n",
    "        clip = image.clip(tilegeo).multiply(0.0001)\n",
    "        clips.append(clip)\n",
    "    \n",
    "    oafgyr = ee.Image.cat(clips)\n",
    "    numtolet = \"ABCDEFGHIJKLMNOPQRSTUVWXYZ\"\n",
    "#     oldnames = [oafgyr.getInfo().get('bands')[i].get(\"id\") for i in range(23)]\n",
    "    oldnames = [oafgyr.getInfo().get('bands')[i].get(\"id\") for i in range(10)]\n",
    "#     newnames = [\"Timestep \" + numtolet[i] for i in range(23)]\n",
    "    newnames = [\"Timestep \" + numtolet[i] for i in range(10)]\n",
    "    afgyr = oafgyr.select(oldnames,newnames)\n",
    "    \n",
    "    afgyrarr = afgyr.toArray()\n",
    "    timesyr = afgyrarr.arrayArgmax().arrayFlatten([['max']])\n",
    "    maxndvis = afgyrarr.arrayGet(timesyr)\n",
    "    \n",
    "    def tpertodate(tper):\n",
    "        daterange = just_dates[tper][0] + \" - \" + just_dates[tper][1]\n",
    "        return daterange\n",
    "    \n",
    "    pixsample = timesyr.sample(region=tilegeo,scale=250,projection='SR-ORG:6974',geometries=True, factor=1)\n",
    "    ndvisample = maxndvis.sample(region=tilegeo,scale=250,projection='SR-ORG:6974',geometries=True, factor=1)\n",
    "    pixsampsize = pixsample.size().getInfo()\n",
    "    ndvisampsize = ndvisample.size().getInfo()\n",
    "    pixellist = pixsample.toList(pixsampsize)\n",
    "    ndvilist = ndvisample.toList(ndvisampsize)\n",
    "    \n",
    "    return pixellist, ndvilist, just_dates"
   ]
  },
  {
   "cell_type": "code",
   "execution_count": 7,
   "id": "8f80458f",
   "metadata": {},
   "outputs": [],
   "source": [
    "# Functions to extract information from the images' getInfo dictionaries\n",
    "\n",
    "def getlong(dicti):\n",
    "    return dicti.get('coordinates')[0]\n",
    "\n",
    "def getlat(dicti):\n",
    "    return dicti.get('coordinates')[1]\n",
    "\n",
    "def getmax(dicti):\n",
    "    return dicti.get('max')\n",
    "\n",
    "def getndvi(dicti):\n",
    "    return dicti.get('array')"
   ]
  },
  {
   "cell_type": "code",
   "execution_count": 8,
   "id": "2894e47a",
   "metadata": {},
   "outputs": [],
   "source": [
    "# Specifying the tiles and years for which data is to be gathered\n",
    "\n",
    "alltiles = list(range(1127))\n",
    "# allyears = [2014, 2015, 2016, 2017, 2018, 2019, 2020]\n",
    "allyears = [2021, 2022] # update 8/29/22: run latest years "
   ]
  },
  {
   "cell_type": "code",
   "execution_count": 9,
   "id": "b49365b8",
   "metadata": {},
   "outputs": [],
   "source": [
    "# Gathers data for the specified tiles and years. Runtime is about 1 minute per tile. Saves data to the specified\n",
    "# filepath at the bottom under \"filename\". Data for tile XXX will be saved in that folder as XXXdata.csv\n",
    "\n",
    "for tile in alltiles:\n",
    "    count = 0\n",
    "    masterdf = pd.DataFrame\n",
    "\n",
    "    for year in allyears:\n",
    "        ps, ns, ds = imagetobands(tile, year)\n",
    "        jsont = json.dumps(ps.getInfo())\n",
    "        jsonnt = json.dumps(ns.getInfo())\n",
    "        dft = pd.read_json(jsont)\n",
    "        dfnt = pd.read_json(jsonnt)\n",
    "        longs = dft['geometry'].apply(getlong)\n",
    "        lats = dft['geometry'].apply(getlat)\n",
    "        tpertodatestarts = lambda tper: ds[tper][0]\n",
    "        tpertodateends = lambda tper: ds[tper][1]\n",
    "        starts = dft['properties'].apply(getmax).apply(tpertodatestarts)\n",
    "        ends = dft['properties'].apply(getmax).apply(tpertodateends)\n",
    "        ndvis = dfnt['properties'].apply(getndvi)\n",
    "\n",
    "        if (count == 0):\n",
    "            masterdf = pd.DataFrame({'Latitude': lats, 'Longitude': longs, \"Best Start Date \" + str(year): starts, \n",
    "                                    \"Best End Date \" + str(year): ends, \"Peak NDVI \" + str(year): ndvis})\n",
    "        else:\n",
    "            dff = pd.DataFrame({'Latitude': lats, 'Longitude': longs, \"Best Start Date \" + str(year): starts, \n",
    "                                \"Best End Date \" + str(year): ends, \"Peak NDVI \" + str(year): ndvis})\n",
    "            masterdf = masterdf.merge(dff, how=\"outer\", on=[\"Latitude\", \"Longitude\"])\n",
    "\n",
    "        count += 1\n",
    "    \n",
    "    filename = \"/data/afg_satellite/bestdates/pixel_maxdata_real_June_21_22/\" + str(tile)+\"data.csv\"\n",
    "#     filename = \"/data/afg_satellite/bestdates/pixel_maxdata_real_June/\" + str(tile)+\"data.csv\"\n",
    "    masterdf.to_csv(filename, index=None)"
   ]
  },
  {
   "cell_type": "code",
   "execution_count": null,
   "id": "eddbb8e2",
   "metadata": {},
   "outputs": [],
   "source": []
  },
  {
   "cell_type": "code",
   "execution_count": null,
   "id": "8a350783",
   "metadata": {},
   "outputs": [],
   "source": []
  },
  {
   "cell_type": "code",
   "execution_count": null,
   "id": "fca915fd",
   "metadata": {},
   "outputs": [],
   "source": []
  },
  {
   "cell_type": "code",
   "execution_count": null,
   "id": "a3c0be35",
   "metadata": {},
   "outputs": [],
   "source": []
  },
  {
   "cell_type": "code",
   "execution_count": 14,
   "id": "cff14290",
   "metadata": {},
   "outputs": [
    {
     "data": {
      "text/plain": [
       "[datetime.datetime(2014, 1, 1, 0, 0),\n",
       " datetime.datetime(2014, 1, 17, 0, 0),\n",
       " datetime.datetime(2014, 2, 2, 0, 0),\n",
       " datetime.datetime(2014, 2, 18, 0, 0),\n",
       " datetime.datetime(2014, 3, 6, 0, 0),\n",
       " datetime.datetime(2014, 3, 22, 0, 0),\n",
       " datetime.datetime(2014, 4, 7, 0, 0),\n",
       " datetime.datetime(2014, 4, 23, 0, 0),\n",
       " datetime.datetime(2014, 5, 9, 0, 0),\n",
       " datetime.datetime(2014, 5, 25, 0, 0),\n",
       " datetime.datetime(2014, 6, 10, 0, 0),\n",
       " datetime.datetime(2014, 6, 26, 0, 0),\n",
       " datetime.datetime(2014, 7, 12, 0, 0),\n",
       " datetime.datetime(2014, 7, 28, 0, 0),\n",
       " datetime.datetime(2014, 8, 13, 0, 0),\n",
       " datetime.datetime(2014, 8, 29, 0, 0),\n",
       " datetime.datetime(2014, 9, 14, 0, 0),\n",
       " datetime.datetime(2014, 9, 30, 0, 0),\n",
       " datetime.datetime(2014, 10, 16, 0, 0),\n",
       " datetime.datetime(2014, 11, 1, 0, 0),\n",
       " datetime.datetime(2014, 11, 17, 0, 0),\n",
       " datetime.datetime(2014, 12, 3, 0, 0),\n",
       " datetime.datetime(2014, 12, 19, 0, 0),\n",
       " datetime.datetime(2015, 1, 4, 0, 0)]"
      ]
     },
     "execution_count": 14,
     "metadata": {},
     "output_type": "execute_result"
    }
   ],
   "source": [
    "dates=[datetime(2014, 1, 1) + timedelta(i - 1) for i in range(1, 370, 16)]\n",
    "dates"
   ]
  }
 ],
 "metadata": {
  "kernelspec": {
   "display_name": "Python 3",
   "language": "python",
   "name": "python3"
  },
  "language_info": {
   "codemirror_mode": {
    "name": "ipython",
    "version": 3
   },
   "file_extension": ".py",
   "mimetype": "text/x-python",
   "name": "python",
   "nbconvert_exporter": "python",
   "pygments_lexer": "ipython3",
   "version": "3.9.12"
  }
 },
 "nbformat": 4,
 "nbformat_minor": 5
}
