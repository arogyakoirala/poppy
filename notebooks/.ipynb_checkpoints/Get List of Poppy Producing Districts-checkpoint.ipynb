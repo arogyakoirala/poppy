{
 "cells": [
  {
   "cell_type": "code",
   "execution_count": 1,
   "id": "87a02dac",
   "metadata": {},
   "outputs": [],
   "source": [
    "import pandas as pd"
   ]
  },
  {
   "cell_type": "code",
   "execution_count": 4,
   "id": "0b0ed1bc",
   "metadata": {},
   "outputs": [],
   "source": [
    "poppy_counts = pd.read_csv(\"../../data/inputs/poppy_1994-2020.csv\")"
   ]
  },
  {
   "cell_type": "code",
   "execution_count": 20,
   "id": "85242d28",
   "metadata": {},
   "outputs": [
    {
     "data": {
      "text/plain": [
       "11      112\n",
       "17      203\n",
       "18      204\n",
       "19      205\n",
       "20      206\n",
       "       ... \n",
       "392    3404\n",
       "393    3405\n",
       "394    3406\n",
       "396    3408\n",
       "397    3409\n",
       "Name: distid, Length: 158, dtype: object"
      ]
     },
     "execution_count": 20,
     "metadata": {},
     "output_type": "execute_result"
    }
   ],
   "source": [
    "poppy_counts[poppy_counts['X2020'].isna() == False]['distid'].astype(str).tolist()"
   ]
  },
  {
   "cell_type": "markdown",
   "id": "640da4cb",
   "metadata": {},
   "source": [
    " '112' '605' '802' '803' '804' '805' '806' '808' '809' '813' '814' '815' '816' '817' '820' '822' '901' '902' '903' '904' '905' '1001' '1002' '1003' '1004' '1005' '1006' '1007' '1009' '1010' '1011' '1013' '1014' '1015' '1102' '1103' '1111' '1112' '1113' '1115' '1116' '1118' '1123' '1124' '1125' '1126' '1302' '1307' '1312' '1315' '1605' '1606' '1607' '1608' '1609' '1612' '1701' '1702' '1703' '1704' '1705' '1706' '1707' '1708' '1710' '1711' '1802' '1803' '1804' '1805' '1807' '1808' '1809' '1813' '1901' '1902' '1903' '1904' '1905' '1906' '1907' '2004' '2006' '2012' '2014' '2101' '2102' '2103' '2105' '2106' '2108' '2109' '2110' '2111' '2203' '2205' '2301' '2302' '2303' '2304' '2305' '2306' '2307' '2308' '2309' '2310' '2311' '2312' '2313' '2401' '2402' '2403' '2404' '2405' '2406' '2407' '2408' '2411' '2412' '2413' '2415' '2416' '2505' '2507' '2601' '2602' '2603' '2604' '2605' '2702' '2703' '2705' '2706' '2707' '2709' '2710' '3101' '3102' '3103' '3106' '3401' '3402' '3404' '3407' '3408' '3409'\n",
    "\n"
   ]
  },
  {
   "cell_type": "code",
   "execution_count": null,
   "id": "3e3cdddb",
   "metadata": {},
   "outputs": [],
   "source": []
  }
 ],
 "metadata": {
  "kernelspec": {
   "display_name": "Python 3",
   "language": "python",
   "name": "python3"
  },
  "language_info": {
   "codemirror_mode": {
    "name": "ipython",
    "version": 3
   },
   "file_extension": ".py",
   "mimetype": "text/x-python",
   "name": "python",
   "nbconvert_exporter": "python",
   "pygments_lexer": "ipython3",
   "version": "3.9.12"
  }
 },
 "nbformat": 4,
 "nbformat_minor": 5
}
