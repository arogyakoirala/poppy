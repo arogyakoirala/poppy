{
 "cells": [
  {
   "cell_type": "code",
   "execution_count": 18,
   "id": "f85d7e9f",
   "metadata": {},
   "outputs": [],
   "source": [
    "import os\n",
    "\n",
    "DATA_DIR=\"/data/tmp/arogya/tmp\"\n",
    "DNQ_DIR=f\"{DATA_DIR}/interim/dnq\"\n",
    "\n",
    "folders = sorted([d for d in os.listdir(DNQ_DIR) if \".gpkg\" not in d])\n",
    "\n",
    "\n",
    "successfull = \"but moving on..\"\n",
    "\n",
    "def check(i):\n",
    "    d = folders[i]\n",
    "    f = f\"{DNQ_DIR}/{d}/log.txt\"\n",
    "    with open(f, 'r') as f2:\n",
    "        if 'but moving' in f2.read():\n",
    "            return True\n",
    "        return False\n",
    "count=0\n",
    "missing=[]\n",
    "i_s = []\n",
    "for i in range(1150):\n",
    "    if check(i):\n",
    "        count+=1\n",
    "        missing.append(folders[i])\n",
    "        i_s.append(i)"
   ]
  },
  {
   "cell_type": "code",
   "execution_count": 21,
   "id": "7de9ff8b",
   "metadata": {},
   "outputs": [
    {
     "data": {
      "text/plain": [
       "['1022',\n",
       " '1080',\n",
       " '1081',\n",
       " '1084',\n",
       " '1095',\n",
       " '1096',\n",
       " '1097',\n",
       " '1099',\n",
       " '1100',\n",
       " '1103',\n",
       " '1113',\n",
       " '1114',\n",
       " '1124',\n",
       " '1129',\n",
       " '1134',\n",
       " '1143',\n",
       " '1144',\n",
       " '1146',\n",
       " '135',\n",
       " '235',\n",
       " '314',\n",
       " '433',\n",
       " '615',\n",
       " '616',\n",
       " '676',\n",
       " '705',\n",
       " '734',\n",
       " '893',\n",
       " '998']"
      ]
     },
     "execution_count": 21,
     "metadata": {},
     "output_type": "execute_result"
    }
   ],
   "source": [
    "missing"
   ]
  },
  {
   "cell_type": "code",
   "execution_count": 43,
   "id": "497954cc",
   "metadata": {},
   "outputs": [
    {
     "name": "stdout",
     "output_type": "stream",
     "text": [
      "Starting process for 2406, there are 8 tiles: [457, 458, 459, 492, 493, 494, 527, 528]\n",
      "Starting process for 2302, there are 10 tiles: [359, 360, 361, 390, 391, 392, 423, 424, 425, 458]Starting process for 2703, there are 10 tiles: [258, 259, 288, 289, 290, 318, 319, 320, 349, 350]Starting process for 2402, there are 17 tiles: [498, 499, 531, 532, 533, 534, 565, 566, 567, 568, 569, 570, 600, 601, 602, 635, 636]Starting process for 2004, there are 9 tiles: [174, 175, 176, 201, 202, 203, 228, 229, 230]Starting process for 2603, there are 12 tiles: [630, 631, 664, 665, 666, 693, 694, 695, 696, 723, 724, 725]Starting process for 2412, there are 13 tiles: [601, 602, 635, 636, 637, 670, 671, 672, 673, 700, 701, 702, 703]Starting process for 2310, there are 25 tiles: [167, 168, 169, 192, 193, 194, 195, 196, 218, 219, 220, 221, 222, 223, 245, 246, 247, 248, 249, 250, 275, 276, 277, 278, 279]Starting process for 1904, there are 21 tiles: [313, 314, 315, 316, 343, 344, 345, 346, 347, 374, 375, 376, 377, 378, 409, 410, 411, 444, 445, 446, 480]\n",
      "\n",
      "\n",
      "\n",
      "\n",
      "\n",
      "\n",
      "\n",
      "Starting process for 2505, there are 4 tiles: [633, 634, 668, 669]\n",
      "Starting process for 3404, there are 9 tiles: [487, 488, 522, 523, 558, 559, 560, 594, 595]\n",
      "Starting process for 2109, there are 17 tiles: [10, 11, 12, 13, 27, 28, 29, 30, 49, 50, 51, 52, 75, 76, 77, 102, 103]Starting process for 3103, there are 18 tiles: [512, 513, 514, 547, 548, 549, 550, 582, 583, 584, 585, 586, 617, 618, 619, 620, 621, 656]\n",
      "\n",
      "Starting process for 2709, there are 8 tiles: [516, 517, 518, 552, 553, 554, 587, 588]Starting process for 2102, there are 9 tiles: [183, 184, 185, 210, 211, 212, 237, 238, 239]\n",
      "\n",
      "Starting process for 2407, there are 10 tiles: [423, 424, 425, 426, 458, 459, 460, 461, 494, 495]\n",
      "Starting process for 2403, there are 13 tiles: [527, 528, 529, 563, 564, 565, 597, 598, 599, 600, 633, 634, 635]Starting process for 2311, there are 30 tiles: [242, 243, 271, 272, 273, 301, 302, 303, 304, 305, 331, 332, 333, 334, 335, 362, 363, 364, 365, 366, 367, 393, 394, 395, 396, 397, 398, 426, 427, 428]Starting process for 2006, there are 11 tiles: [116, 117, 142, 143, 144, 145, 146, 170, 171, 172, 173]Starting process for 2705, there are 13 tiles: [321, 322, 352, 353, 354, 382, 383, 384, 385, 415, 416, 417, 418]Starting process for 2303, there are 11 tiles: [419, 420, 421, 422, 454, 455, 456, 457, 490, 491, 492]\n",
      "\n",
      "\n",
      "\n",
      "\n",
      "Starting process for 2308, there are 13 tiles: [268, 269, 270, 298, 299, 300, 301, 329, 330, 331, 360, 361, 362]\n",
      "Starting process for 2413, there are 12 tiles: [701, 702, 703, 729, 730, 731, 732, 758, 759, 760, 787, 788]\n",
      "Starting process for 2604, there are 9 tiles: [488, 489, 490, 523, 524, 525, 559, 560, 561]\n",
      "Starting process for 2507, there are 10 tiles: [670, 699, 700, 701, 728, 729, 730, 756, 757, 785]\n",
      "Starting process for 3407, there are 12 tiles: [660, 661, 662, 690, 691, 692, 719, 720, 721, 747, 748, 749]\n",
      "Starting process for 2103, there are 23 tiles: [208, 209, 234, 235, 236, 237, 238, 263, 264, 265, 266, 267, 293, 294, 295, 296, 297, 324, 325, 326, 327, 355, 356]\n",
      "Starting process for 3106, there are 9 tiles: [509, 510, 511, 545, 546, 547, 580, 581, 582]\n",
      "Starting process for 2111, there are 5 tiles: [99, 100, 127, 128, 155]\n",
      "Starting process for 2710, there are 16 tiles: [378, 379, 412, 413, 414, 415, 447, 448, 449, 450, 483, 484, 485, 518, 519, 520]\n",
      "Starting process for 2404, there are 5 tiles: [528, 529, 530, 565, 566]Starting process for 2312, there are 4 tiles: [423, 457, 458, 492]Starting process for 2012, there are 12 tiles: [201, 227, 228, 229, 230, 256, 257, 258, 259, 286, 287, 288]Starting process for 2706, there are 18 tiles: [384, 415, 416, 417, 418, 450, 451, 452, 453, 484, 485, 486, 487, 519, 520, 521, 522, 557]\n",
      "\n",
      "\n",
      "Starting process for 2304, there are 9 tiles: [387, 388, 419, 420, 421, 422, 423, 457, 458]\n",
      "\n",
      "Starting process for 2408, there are 20 tiles: [395, 396, 426, 427, 428, 429, 460, 461, 462, 463, 464, 495, 496, 497, 498, 499, 530, 531, 532, 533]\n",
      "Starting process for 2304, there are 9 tiles: [387, 388, 419, 420, 421, 422, 423, 457, 458]\n",
      "Starting process for 2415, there are 6 tiles: [526, 527, 562, 563, 597, 598]\n",
      "Starting process for 2605, there are 10 tiles: [490, 491, 492, 524, 525, 526, 527, 560, 561, 562]\n",
      "Starting process for 2601, there are 7 tiles: [526, 560, 561, 562, 595, 596, 597]\n",
      "Starting process for 3408, there are 7 tiles: [519, 554, 555, 589, 590, 624, 625]\n",
      "Starting process for 2105, there are 17 tiles: [153, 154, 155, 156, 180, 181, 182, 183, 207, 208, 209, 210, 234, 235, 236, 237, 265]\n",
      "Starting process for 3401, there are 5 tiles: [557, 591, 592, 626, 627]\n",
      "Starting process for 2203, there are 47 tiles: [14, 15, 31, 32, 33, 34, 53, 54, 55, 56, 57, 80, 81, 82, 83, 84, 85, 107, 108, 109, 110, 111, 112, 113, 135, 136, 137, 138, 139, 140, 141, 163, 164, 165, 166, 167, 168, 169, 190, 191, 192, 193, 194, 217, 218, 219, 244]\n",
      "Starting process for 3101, there are 11 tiles: [544, 545, 579, 580, 581, 582, 614, 615, 616, 617, 649]\n",
      "Starting process for 2405, there are 8 tiles: [492, 493, 494, 527, 528, 529, 563, 564]Starting process for 2707, there are 16 tiles: [553, 554, 586, 587, 588, 589, 621, 622, 623, 624, 656, 657, 658, 659, 687, 688]Starting process for 2014, there are 23 tiles: [70, 71, 95, 96, 97, 98, 123, 124, 125, 126, 151, 152, 153, 178, 179, 180, 205, 206, 207, 231, 232, 233, 234]\n",
      "Starting process for 2313, there are 37 tiles: [217, 218, 243, 244, 245, 246, 272, 273, 274, 275, 276, 277, 278, 279, 303, 304, 305, 306, 307, 308, 309, 334, 335, 336, 337, 338, 339, 340, 366, 367, 368, 369, 370, 398, 399, 400, 401]\n",
      "\n",
      "Starting process for 2307, there are 15 tiles: [267, 268, 296, 297, 298, 299, 326, 327, 328, 329, 357, 358, 359, 360, 389]\n",
      "\n",
      "Starting process for 2411, there are 19 tiles: [533, 567, 568, 569, 570, 571, 602, 603, 604, 605, 606, 637, 638, 639, 640, 641, 672, 673, 674]\n",
      "Starting process for 2416, there are 4 tiles: [494, 495, 529, 530]Starting process for 1906, there are 14 tiles: [224, 251, 252, 253, 254, 281, 282, 283, 284, 312, 313, 314, 343, 344]\n",
      "\n",
      "Starting process for 2702, there are 17 tiles: [318, 319, 320, 348, 349, 350, 351, 352, 379, 380, 381, 382, 383, 412, 413, 414, 415]\n",
      "Starting process for 3409, there are 10 tiles: [592, 626, 627, 628, 661, 662, 663, 691, 692, 693]Starting process for 2106, there are 9 tiles: [97, 98, 99, 125, 126, 127, 153, 154, 155]\n",
      "\n",
      "Starting process for 2602, there are 13 tiles: [594, 595, 596, 597, 628, 629, 630, 631, 632, 663, 664, 665, 666]\n",
      "Starting process for 2401, there are 4 tiles: [530, 531, 566, 567]Starting process for 2101, there are 14 tiles: [74, 75, 100, 101, 102, 127, 128, 129, 155, 156, 157, 182, 183, 184]\n",
      "\n",
      "Starting process for 2309, there are 13 tiles: [241, 242, 270, 271, 300, 301, 331, 361, 362, 392, 393, 425, 426]\n",
      "Starting process for 3402, there are 16 tiles: [557, 558, 559, 592, 593, 594, 595, 627, 628, 629, 662, 663, 664, 692, 693, 694]\n",
      "Starting process for 2205, there are 24 tiles: [157, 158, 159, 160, 184, 185, 186, 187, 188, 212, 213, 214, 215, 238, 239, 240, 241, 242, 267, 268, 269, 270, 297, 298]\n",
      "Starting process for 3102, there are 6 tiles: [616, 617, 618, 651, 652, 653]\n",
      "Starting process for 1907, there are 8 tiles: [197, 198, 224, 225, 253, 254, 255, 284]\n",
      "Starting process for 2108, there are 10 tiles: [8, 9, 25, 26, 47, 48, 72, 73, 99, 100]\n",
      "Starting process for 2301, there are 6 tiles: [360, 361, 392, 393, 424, 425]\n"
     ]
    }
   ],
   "source": [
    "MISSING_SHPS = [\"2003\", \"2007\", \"2011\", \"2104\", \"2107\", \"2414\", \"2501\", \"2504\", \"2506\",\"2508\", \"2509\",  \"2510\",  \"2701\", \"3105\", \"3107\", \"3403\", \"3405\", \"3406\", ]\n",
    "DISTRICTS = [\"1904\", \"2308\", \"2304\", \"1906\", \"1907\",  \"2004\", \"2006\",  \"2012\", \"2014\", \"2101\", \"2102\", \"2103\",  \"2105\", \"2106\",  \"2108\", \"2109\", \"2111\", \"2203\", \"2205\", \"2301\", \"2302\", \"2303\", \"2304\", \"2307\", \"2309\", \"2310\", \"2311\", \"2312\", \"2313\", \"2401\", \"2402\", \"2403\", \"2404\", \"2405\", \"2406\", \"2407\", \"2408\", \"2411\", \"2412\", \"2413\", \"2415\", \"2416\",   \"2505\",  \"2507\", \"2601\", \"2602\", \"2603\", \"2604\", \"2605\",  \"2702\", \"2703\", \"2705\", \"2706\", \"2707\", \"2709\", \"2710\", \"3101\", \"3102\", \"3103\",  \"3106\",  \"3401\", \"3402\",  \"3404\",  \"3407\", \"3408\", \"3409\"]\n",
    "\n",
    "import geopandas as gpd\n",
    "import os\n",
    "import multiprocessing as mp\n",
    "import numpy as np\n",
    "\n",
    "\n",
    "def predict():\n",
    "    cpus = 15\n",
    "    parent_chunks = np.array_split(DISTRICTS, cpus)\n",
    "    pool = mp.Pool(processes=cpus)\n",
    "    chunk_processes = [pool.apply_async(predict_chunk, args=(chunk, DISTRICTS)) for chunk in parent_chunks]\n",
    "    chunk_results = [chunk.get() for chunk in chunk_processes]\n",
    "\n",
    "def predict_chunk(DISTRICTS, all_dists):\n",
    "    for dist in DISTRICTS:\n",
    "        DATA_DIR = '/data/tmp/arogya/tmp/'\n",
    "        GRID = '/data/tmp/arogya/tmp/interim/grid.gpkg'\n",
    "        SHP = f'/data/tmp/arogya/tmp/inputs/{dist}.gpkg'\n",
    "        YEAR = '2019'\n",
    "        MODEL_PATH = '/data/tmp/arogya/data/outputs/models/kmeans_3_diff_bands'\n",
    "\n",
    "\n",
    "        grid = gpd.read_file(GRID)\n",
    "        shp = gpd.read_file(SHP)\n",
    "        joined = grid.sjoin(shp)\n",
    "        grid_ids = list(joined['grid_id'])\n",
    "        print(f\"Starting process for {dist}, there are {len(grid_ids)} tiles: {grid_ids}\")\n",
    "\n",
    "        for tile in grid_ids:\n",
    "            if tile in missing:\n",
    "                print(f\"Encountered missing tile ID: {tile}, moving on..\")\n",
    "            else:\n",
    "                DATA_DIR_ = f\"/data/tmp/arogya/tmp/interim/dnq/{tile}\"\n",
    "                SHP_PATH_ = f\"/data/tmp/arogya/tmp/interim/{tile}.gpkg\"\n",
    "                DATA_FILE_SUFFIX = \"diff_bands\"\n",
    "                TILES_PATH = f\"{DATA_DIR_}/interim/tiles\"\n",
    "                NAME = MODEL_PATH.split(\"/\")[-1]\n",
    "                SKIP_RASTER_GENERATION = False\n",
    "                N = 3\n",
    "                MODEL_TYPE = 'kmeans'    \n",
    "        #         os.system(f\"python -u poppy-predict.py {DATA_DIR_} {SHP_PATH_} {MODEL_PATH}\")\n",
    "        print(f\"###### FINISHED PREDICTING FOR: {dist}\")\n",
    "\n",
    "predict()\n",
    "    \n"
   ]
  },
  {
   "cell_type": "code",
   "execution_count": 5,
   "id": "ddf22067",
   "metadata": {},
   "outputs": [],
   "source": []
  },
  {
   "cell_type": "code",
   "execution_count": 6,
   "id": "58356293",
   "metadata": {},
   "outputs": [],
   "source": []
  },
  {
   "cell_type": "code",
   "execution_count": 9,
   "id": "e6908e68",
   "metadata": {},
   "outputs": [],
   "source": []
  },
  {
   "cell_type": "code",
   "execution_count": 12,
   "id": "c0b36eba",
   "metadata": {},
   "outputs": [
    {
     "data": {
      "text/plain": [
       "[494, 495, 529, 530]"
      ]
     },
     "execution_count": 12,
     "metadata": {},
     "output_type": "execute_result"
    }
   ],
   "source": []
  },
  {
   "cell_type": "code",
   "execution_count": null,
   "id": "c5f9c876",
   "metadata": {},
   "outputs": [],
   "source": []
  }
 ],
 "metadata": {
  "kernelspec": {
   "display_name": "Python 3",
   "language": "python",
   "name": "python3"
  },
  "language_info": {
   "codemirror_mode": {
    "name": "ipython",
    "version": 3
   },
   "file_extension": ".py",
   "mimetype": "text/x-python",
   "name": "python",
   "nbconvert_exporter": "python",
   "pygments_lexer": "ipython3",
   "version": "3.9.12"
  }
 },
 "nbformat": 4,
 "nbformat_minor": 5
}
