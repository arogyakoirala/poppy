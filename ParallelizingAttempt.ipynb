{
 "cells": [
  {
   "cell_type": "code",
   "execution_count": 4,
   "id": "4e8cc793",
   "metadata": {},
   "outputs": [],
   "source": [
    "SHP_FILE = '../data/inputs/2308.gpkg'\n",
    "DATA_DIR = \"../tmpdata\"\n",
    "SRC_DIR = \"~/projects/afg-clustering/src\"\n",
    "N_CORES = 3"
   ]
  },
  {
   "cell_type": "code",
   "execution_count": 5,
   "id": "bab7324c",
   "metadata": {},
   "outputs": [],
   "source": [
    "import geopandas as gpd\n",
    "from pathlib import Path\n",
    "import os\n",
    "import shutil\n",
    "import subprocess"
   ]
  },
  {
   "cell_type": "code",
   "execution_count": 6,
   "id": "743049eb",
   "metadata": {},
   "outputs": [],
   "source": [
    "input_ = gpd.read_file(SHP_FILE)\n"
   ]
  },
  {
   "cell_type": "code",
   "execution_count": 7,
   "id": "c7128d00",
   "metadata": {},
   "outputs": [],
   "source": [
    "# TMP_DATA_DIR = f\"{DATA_DIR}/dnq\"\n",
    "# if os.path.exists(TMP_DATA_DIR):\n",
    "#     shutil.rmtree(TMP_DATA_DIR)\n",
    "# Path(TMP_DATA_DIR).mkdir(parents=True, exist_ok=True)"
   ]
  },
  {
   "cell_type": "code",
   "execution_count": 10,
   "id": "8ab84270",
   "metadata": {},
   "outputs": [
    {
     "name": "stdout",
     "output_type": "stream",
     "text": [
      "--------- Generating grid at 50000mx50000m ...\n",
      "--------- Grid generation complete. Saving to disk...\n",
      "--------- Successfully saved to disk: ../tmpdata/interim/grid.gpkg\n"
     ]
    }
   ],
   "source": [
    "INTERIM_DIR = f'{DATA_DIR}/interim'\n",
    "Path(INTERIM_DIR).mkdir(parents=True, exist_ok=True)\n",
    "sh = ShapefileHelper(SHP_FILE, INTERIM_DIR)\n",
    "sh.make_grid(50000, \"grid\");"
   ]
  },
  {
   "cell_type": "code",
   "execution_count": 11,
   "id": "6b114870",
   "metadata": {},
   "outputs": [],
   "source": [
    "GRID_PATH = f\"{INTERIM_DIR}/grid.gpkg\"\n",
    "grid = gpd.read_file(GRID_PATH)"
   ]
  },
  {
   "cell_type": "code",
   "execution_count": 12,
   "id": "6e537d9b",
   "metadata": {},
   "outputs": [
    {
     "name": "stdout",
     "output_type": "stream",
     "text": [
      "Index(['grid_id', 'geometry'], dtype='object')\n",
      "Index(['grid_id', 'geometry'], dtype='object')\n",
      "Index(['grid_id', 'geometry'], dtype='object')\n",
      "Index(['grid_id', 'geometry'], dtype='object')\n"
     ]
    }
   ],
   "source": [
    "for i, tile in grid.iterrows():\n",
    "    temp = gpd.GeoDataFrame(grid.iloc[i]).transpose()\n",
    "    temp = temp[['grid_id', 'geometry']]\n",
    "    temp['grid_id'] = temp['grid_id'].astype('int')\n",
    "    print(temp.columns)\n",
    "    temp.to_file(f'{INTERIM_DIR}/{temp.iloc[0][0]}.gpkg')"
   ]
  },
  {
   "cell_type": "code",
   "execution_count": 45,
   "id": "c86ebede",
   "metadata": {},
   "outputs": [],
   "source": [
    "grids = [tile for tile in os.listdir(INTERIM_DIR) if tile != \"grid.gpkg\" and  tile != \".ipynb_checkpoints\"]"
   ]
  },
  {
   "cell_type": "code",
   "execution_count": 47,
   "id": "a0446e4a",
   "metadata": {},
   "outputs": [],
   "source": [
    "DNQ_DIR = f\"{INTERIM_DIR}/dnq\"\n",
    "if os.path.exists(DNQ_DIR):\n",
    "    shutil.rmtree(DNQ_DIR)\n",
    "# Path(DNQ_DIR).mkdir(parents=True, exist_ok=True)\n",
    "for grid in grids:\n",
    "    temp = grid.split(\".gpkg\")[0]\n",
    "    Path(f\"{DNQ_DIR}/{temp}/inputs\").mkdir(parents=True, exist_ok=True)\n",
    "    shutil.copy2(f\"{DATA_DIR}/inputs/2019_E060N40_PROBAV_LC100_global_v3.0.1_2019.tif\",f\"{DNQ_DIR}/{temp}/inputs\")"
   ]
  },
  {
   "cell_type": "code",
   "execution_count": 48,
   "id": "34134e1a",
   "metadata": {},
   "outputs": [],
   "source": [
    "grids = [f\"{INTERIM_DIR}/{tile}\" for tile in grids]"
   ]
  },
  {
   "cell_type": "code",
   "execution_count": 59,
   "id": "598c2f03",
   "metadata": {},
   "outputs": [
    {
     "ename": "KeyboardInterrupt",
     "evalue": "",
     "output_type": "error",
     "traceback": [
      "\u001b[0;31m---------------------------------------------------------------------------\u001b[0m",
      "\u001b[0;31mKeyboardInterrupt\u001b[0m                         Traceback (most recent call last)",
      "Input \u001b[0;32mIn [59]\u001b[0m, in \u001b[0;36m<cell line: 1>\u001b[0;34m()\u001b[0m\n\u001b[1;32m      9\u001b[0m pred \u001b[38;5;241m=\u001b[39m \u001b[38;5;28mopen\u001b[39m(\u001b[38;5;124mf\u001b[39m\u001b[38;5;124m\"\u001b[39m\u001b[38;5;132;01m{\u001b[39;00mTMP_INTERIM_DIR\u001b[38;5;132;01m}\u001b[39;00m\u001b[38;5;124m/predict.out\u001b[39m\u001b[38;5;124m\"\u001b[39m, \u001b[38;5;124m\"\u001b[39m\u001b[38;5;124mw\u001b[39m\u001b[38;5;124m\"\u001b[39m)\n\u001b[1;32m     11\u001b[0m subprocess\u001b[38;5;241m.\u001b[39mcall(\u001b[38;5;124mf\u001b[39m\u001b[38;5;124m\"\u001b[39m\u001b[38;5;124mpython -u \u001b[39m\u001b[38;5;132;01m{\u001b[39;00mSRC_DIR\u001b[38;5;132;01m}\u001b[39;00m\u001b[38;5;124m/poppy-preprocess.py \u001b[39m\u001b[38;5;132;01m{\u001b[39;00mTMP_DATA_DIR\u001b[38;5;132;01m}\u001b[39;00m\u001b[38;5;124m \u001b[39m\u001b[38;5;132;01m{\u001b[39;00mtile\u001b[38;5;132;01m}\u001b[39;00m\u001b[38;5;124m --upto_step download --year 2019 --n_cores 5\u001b[39m\u001b[38;5;124m\"\u001b[39m, shell\u001b[38;5;241m=\u001b[39m\u001b[38;5;28;01mTrue\u001b[39;00m, stdout\u001b[38;5;241m=\u001b[39mpre)\n\u001b[0;32m---> 12\u001b[0m \u001b[43msubprocess\u001b[49m\u001b[38;5;241;43m.\u001b[39;49m\u001b[43mcall\u001b[49m\u001b[43m(\u001b[49m\u001b[38;5;124;43mf\u001b[39;49m\u001b[38;5;124;43m\"\u001b[39;49m\u001b[38;5;124;43mpython -u \u001b[39;49m\u001b[38;5;132;43;01m{\u001b[39;49;00m\u001b[43mSRC_DIR\u001b[49m\u001b[38;5;132;43;01m}\u001b[39;49;00m\u001b[38;5;124;43m/poppy-fix-downloads.py \u001b[39;49m\u001b[38;5;132;43;01m{\u001b[39;49;00m\u001b[43mTMP_DATA_DIR\u001b[49m\u001b[38;5;132;43;01m}\u001b[39;49;00m\u001b[38;5;124;43m --n_cores 5\u001b[39;49m\u001b[38;5;124;43m\"\u001b[39;49m\u001b[43m,\u001b[49m\u001b[43m \u001b[49m\u001b[43mshell\u001b[49m\u001b[38;5;241;43m=\u001b[39;49m\u001b[38;5;28;43;01mTrue\u001b[39;49;00m\u001b[43m,\u001b[49m\u001b[43m \u001b[49m\u001b[43mstdout\u001b[49m\u001b[38;5;241;43m=\u001b[39;49m\u001b[43mfix\u001b[49m\u001b[43m)\u001b[49m\n\u001b[1;32m     13\u001b[0m subprocess\u001b[38;5;241m.\u001b[39mcall(\u001b[38;5;124mf\u001b[39m\u001b[38;5;124m\"\u001b[39m\u001b[38;5;124mpython -u \u001b[39m\u001b[38;5;132;01m{\u001b[39;00mSRC_DIR\u001b[38;5;132;01m}\u001b[39;00m\u001b[38;5;124m/poppy-predict.py \u001b[39m\u001b[38;5;132;01m{\u001b[39;00mTMP_DATA_DIR\u001b[38;5;132;01m}\u001b[39;00m\u001b[38;5;124m $\u001b[39m\u001b[38;5;132;01m{\u001b[39;00mtile\u001b[38;5;132;01m}\u001b[39;00m\u001b[38;5;124m /data/tmp/arogya/data/outputs/models/kmeans_3_diff_bands --model_type kmeans --num 3 --name kmeans_3\u001b[39m\u001b[38;5;124m\"\u001b[39m, shell\u001b[38;5;241m=\u001b[39m\u001b[38;5;28;01mTrue\u001b[39;00m, stdout\u001b[38;5;241m=\u001b[39mpred)\n",
      "File \u001b[0;32m~/.conda/envs/poppy-linux/lib/python3.9/subprocess.py:351\u001b[0m, in \u001b[0;36mcall\u001b[0;34m(timeout, *popenargs, **kwargs)\u001b[0m\n\u001b[1;32m    349\u001b[0m \u001b[38;5;28;01mwith\u001b[39;00m Popen(\u001b[38;5;241m*\u001b[39mpopenargs, \u001b[38;5;241m*\u001b[39m\u001b[38;5;241m*\u001b[39mkwargs) \u001b[38;5;28;01mas\u001b[39;00m p:\n\u001b[1;32m    350\u001b[0m     \u001b[38;5;28;01mtry\u001b[39;00m:\n\u001b[0;32m--> 351\u001b[0m         \u001b[38;5;28;01mreturn\u001b[39;00m \u001b[43mp\u001b[49m\u001b[38;5;241;43m.\u001b[39;49m\u001b[43mwait\u001b[49m\u001b[43m(\u001b[49m\u001b[43mtimeout\u001b[49m\u001b[38;5;241;43m=\u001b[39;49m\u001b[43mtimeout\u001b[49m\u001b[43m)\u001b[49m\n\u001b[1;32m    352\u001b[0m     \u001b[38;5;28;01mexcept\u001b[39;00m:  \u001b[38;5;66;03m# Including KeyboardInterrupt, wait handled that.\u001b[39;00m\n\u001b[1;32m    353\u001b[0m         p\u001b[38;5;241m.\u001b[39mkill()\n",
      "File \u001b[0;32m~/.conda/envs/poppy-linux/lib/python3.9/subprocess.py:1189\u001b[0m, in \u001b[0;36mPopen.wait\u001b[0;34m(self, timeout)\u001b[0m\n\u001b[1;32m   1187\u001b[0m     endtime \u001b[38;5;241m=\u001b[39m _time() \u001b[38;5;241m+\u001b[39m timeout\n\u001b[1;32m   1188\u001b[0m \u001b[38;5;28;01mtry\u001b[39;00m:\n\u001b[0;32m-> 1189\u001b[0m     \u001b[38;5;28;01mreturn\u001b[39;00m \u001b[38;5;28;43mself\u001b[39;49m\u001b[38;5;241;43m.\u001b[39;49m\u001b[43m_wait\u001b[49m\u001b[43m(\u001b[49m\u001b[43mtimeout\u001b[49m\u001b[38;5;241;43m=\u001b[39;49m\u001b[43mtimeout\u001b[49m\u001b[43m)\u001b[49m\n\u001b[1;32m   1190\u001b[0m \u001b[38;5;28;01mexcept\u001b[39;00m \u001b[38;5;167;01mKeyboardInterrupt\u001b[39;00m:\n\u001b[1;32m   1191\u001b[0m     \u001b[38;5;66;03m# https://bugs.python.org/issue25942\u001b[39;00m\n\u001b[1;32m   1192\u001b[0m     \u001b[38;5;66;03m# The first keyboard interrupt waits briefly for the child to\u001b[39;00m\n\u001b[1;32m   1193\u001b[0m     \u001b[38;5;66;03m# exit under the common assumption that it also received the ^C\u001b[39;00m\n\u001b[1;32m   1194\u001b[0m     \u001b[38;5;66;03m# generated SIGINT and will exit rapidly.\u001b[39;00m\n\u001b[1;32m   1195\u001b[0m     \u001b[38;5;28;01mif\u001b[39;00m timeout \u001b[38;5;129;01mis\u001b[39;00m \u001b[38;5;129;01mnot\u001b[39;00m \u001b[38;5;28;01mNone\u001b[39;00m:\n",
      "File \u001b[0;32m~/.conda/envs/poppy-linux/lib/python3.9/subprocess.py:1917\u001b[0m, in \u001b[0;36mPopen._wait\u001b[0;34m(self, timeout)\u001b[0m\n\u001b[1;32m   1915\u001b[0m \u001b[38;5;28;01mif\u001b[39;00m \u001b[38;5;28mself\u001b[39m\u001b[38;5;241m.\u001b[39mreturncode \u001b[38;5;129;01mis\u001b[39;00m \u001b[38;5;129;01mnot\u001b[39;00m \u001b[38;5;28;01mNone\u001b[39;00m:\n\u001b[1;32m   1916\u001b[0m     \u001b[38;5;28;01mbreak\u001b[39;00m  \u001b[38;5;66;03m# Another thread waited.\u001b[39;00m\n\u001b[0;32m-> 1917\u001b[0m (pid, sts) \u001b[38;5;241m=\u001b[39m \u001b[38;5;28;43mself\u001b[39;49m\u001b[38;5;241;43m.\u001b[39;49m\u001b[43m_try_wait\u001b[49m\u001b[43m(\u001b[49m\u001b[38;5;241;43m0\u001b[39;49m\u001b[43m)\u001b[49m\n\u001b[1;32m   1918\u001b[0m \u001b[38;5;66;03m# Check the pid and loop as waitpid has been known to\u001b[39;00m\n\u001b[1;32m   1919\u001b[0m \u001b[38;5;66;03m# return 0 even without WNOHANG in odd situations.\u001b[39;00m\n\u001b[1;32m   1920\u001b[0m \u001b[38;5;66;03m# http://bugs.python.org/issue14396.\u001b[39;00m\n\u001b[1;32m   1921\u001b[0m \u001b[38;5;28;01mif\u001b[39;00m pid \u001b[38;5;241m==\u001b[39m \u001b[38;5;28mself\u001b[39m\u001b[38;5;241m.\u001b[39mpid:\n",
      "File \u001b[0;32m~/.conda/envs/poppy-linux/lib/python3.9/subprocess.py:1875\u001b[0m, in \u001b[0;36mPopen._try_wait\u001b[0;34m(self, wait_flags)\u001b[0m\n\u001b[1;32m   1873\u001b[0m \u001b[38;5;124;03m\"\"\"All callers to this function MUST hold self._waitpid_lock.\"\"\"\u001b[39;00m\n\u001b[1;32m   1874\u001b[0m \u001b[38;5;28;01mtry\u001b[39;00m:\n\u001b[0;32m-> 1875\u001b[0m     (pid, sts) \u001b[38;5;241m=\u001b[39m \u001b[43mos\u001b[49m\u001b[38;5;241;43m.\u001b[39;49m\u001b[43mwaitpid\u001b[49m\u001b[43m(\u001b[49m\u001b[38;5;28;43mself\u001b[39;49m\u001b[38;5;241;43m.\u001b[39;49m\u001b[43mpid\u001b[49m\u001b[43m,\u001b[49m\u001b[43m \u001b[49m\u001b[43mwait_flags\u001b[49m\u001b[43m)\u001b[49m\n\u001b[1;32m   1876\u001b[0m \u001b[38;5;28;01mexcept\u001b[39;00m \u001b[38;5;167;01mChildProcessError\u001b[39;00m:\n\u001b[1;32m   1877\u001b[0m     \u001b[38;5;66;03m# This happens if SIGCLD is set to be ignored or waiting\u001b[39;00m\n\u001b[1;32m   1878\u001b[0m     \u001b[38;5;66;03m# for child processes has otherwise been disabled for our\u001b[39;00m\n\u001b[1;32m   1879\u001b[0m     \u001b[38;5;66;03m# process.  This child is dead, we can't get the status.\u001b[39;00m\n\u001b[1;32m   1880\u001b[0m     pid \u001b[38;5;241m=\u001b[39m \u001b[38;5;28mself\u001b[39m\u001b[38;5;241m.\u001b[39mpid\n",
      "\u001b[0;31mKeyboardInterrupt\u001b[0m: "
     ]
    }
   ],
   "source": [
    "for tile in grids:\n",
    "    TILE = tile.split(\"/\")[-1].split(\".gpkg\")[0]\n",
    "    TMP_DATA_DIR = f\"{DNQ_DIR}/{TILE}\"\n",
    "    TMP_INTERIM_DIR = f\"{TMP_DATA_DIR}/interim\"\n",
    "    Path(f\"{TMP_INTERIM_DIR}/{temp}/inputs\").mkdir(parents=True, exist_ok=True)\n",
    "    \n",
    "    pre = open(f\"{TMP_INTERIM_DIR}/preprocess.out\", \"w\")\n",
    "    fix = open(f\"{TMP_INTERIM_DIR}/fix.out\", \"w\")\n",
    "    pred = open(f\"{TMP_INTERIM_DIR}/predict.out\", \"w\")\n",
    "\n",
    "    subprocess.call(f\"python -u {SRC_DIR}/poppy-preprocess.py {TMP_DATA_DIR} {tile} --upto_step download --year 2019 --n_cores 5\", shell=True, stdout=pre)\n",
    "    subprocess.call(f\"python -u {SRC_DIR}/poppy-fix-downloads.py {TMP_DATA_DIR} --n_cores 5\", shell=True, stdout=fix)\n",
    "    subprocess.call(f\"python -u {SRC_DIR}/poppy-predict.py {TMP_DATA_DIR} ${tile} /data/tmp/arogya/data/outputs/models/kmeans_3_diff_bands --model_type kmeans --num 3 --name kmeans_3\", shell=True, stdout=pred)\n",
    "    "
   ]
  },
  {
   "cell_type": "code",
   "execution_count": null,
   "id": "97cc41b6",
   "metadata": {},
   "outputs": [],
   "source": []
  },
  {
   "cell_type": "code",
   "execution_count": null,
   "id": "07b72768",
   "metadata": {},
   "outputs": [],
   "source": [
    "import argparse\n",
    "\n",
    "parser = argparse.ArgumentParser()\n",
    "\n",
    "parser.add_argument(\"data_dir\", help=\"What dir should I use for generating data\")\n",
    "parser.add_argument(\"shp\", help=\"Shapefile\")\n",
    "\n",
    "args = parser.parse_args()\n",
    "\n",
    "DATA_DIR = args.data_dir\n",
    "SHP = args.shp\n",
    "\n",
    "\n",
    "from utils.shapefile import ShapefileHelper\n",
    "import geopandas as gpd\n",
    "from pathlib import Path\n",
    "import os\n",
    "import shutil\n",
    "\n",
    "INTERIM_DIR = f'{DATA_DIR}/interim'\n",
    "Path(INTERIM_DIR).mkdir(parents=True, exist_ok=True)\n",
    "sh = ShapefileHelper(SHP_FILE, INTERIM_DIR)\n",
    "sh.make_grid(50000, \"grid\");\n",
    "\n",
    "GRID_PATH = f\"{INTERIM_DIR}/grid.gpkg\"\n",
    "grid = gpd.read_file(GRID_PATH)\n",
    "\n",
    "for i, tile in grid.iterrows():\n",
    "    temp = gpd.GeoDataFrame(grid.iloc[i]).transpose()\n",
    "    temp = temp[['grid_id', 'geometry']]\n",
    "    temp['grid_id'] = temp['grid_id'].astype('int')\n",
    "    temp.to_file(f'{INTERIM_DIR}/{temp.iloc[0][0]}.gpkg')\n",
    "    \n",
    "grids = [tile for tile in os.listdir(INTERIM_DIR) if tile != \"grid.gpkg\" and  tile != \".ipynb_checkpoints\"]\n",
    "\n",
    "DNQ_DIR = f\"{INTERIM_DIR}/dnq\"\n",
    "if os.path.exists(DNQ_DIR):\n",
    "    shutil.rmtree(DNQ_DIR)\n",
    "for grid in grids:\n",
    "    temp = grid.split(\".gpkg\")[0]\n",
    "    Path(f\"{DNQ_DIR}/{temp}/inputs\").mkdir(parents=True, exist_ok=True)\n",
    "    shutil.copy2(f\"{DATA_DIR}/inputs/2019_E060N40_PROBAV_LC100_global_v3.0.1_2019.tif\",f\"{DNQ_DIR}/{temp}/inputs\")"
   ]
  },
  {
   "cell_type": "code",
   "execution_count": null,
   "id": "bb213ef7",
   "metadata": {},
   "outputs": [],
   "source": []
  },
  {
   "cell_type": "code",
   "execution_count": null,
   "id": "ab95a7f2",
   "metadata": {},
   "outputs": [],
   "source": []
  },
  {
   "cell_type": "code",
   "execution_count": null,
   "id": "1dff8ffd",
   "metadata": {},
   "outputs": [],
   "source": []
  },
  {
   "cell_type": "code",
   "execution_count": null,
   "id": "4e7f3554",
   "metadata": {},
   "outputs": [],
   "source": []
  },
  {
   "cell_type": "code",
   "execution_count": 9,
   "id": "38699f2f",
   "metadata": {},
   "outputs": [],
   "source": [
    "import geopandas as gpd\n",
    "from osgeo import ogr\n",
    "from math import ceil\n",
    "import shutil\n",
    "import os\n",
    "from shapely.geometry import box\n",
    "from pathlib import Path\n",
    "\n",
    "import warnings\n",
    "warnings.filterwarnings(\"ignore\")\n",
    "\n",
    "\n",
    "# Shape file helper class\n",
    "class ShapefileHelper():\n",
    "    \n",
    "    def __init__(self, dissolved_aoi_shapefile, vector_output_dir):\n",
    "        self.raw = dissolved_aoi_shapefile\n",
    "        self.vector_output_dir = vector_output_dir + \"/\"\n",
    "        self._make_dir()\n",
    "        self._read_file()\n",
    "    \n",
    "    def make_grid(self, resolution, name, out_crs=\"epsg:4326\", id_col=\"grid_id\"):\n",
    "#         self.gdf.boundary.plot()\n",
    "        \n",
    "        gridWidth, gridHeight = resolution, resolution\n",
    "        xmin, ymin, xmax, ymax = self.gdf.bounds.iloc[0]['minx'],  self.gdf.bounds.iloc[0]['miny'],  self.gdf.bounds.iloc[0]['maxx'],  self.gdf.bounds.iloc[0]['maxy']\n",
    "        \n",
    "        outputGridfn = name\n",
    "        \n",
    "        # get rows\n",
    "        rows = ceil((ymax-ymin)/gridHeight)\n",
    "        # get columns\n",
    "        cols = ceil((xmax-xmin)/gridWidth)\n",
    "\n",
    "        # start grid cell envelope\n",
    "        ringXleftOrigin = xmin\n",
    "        ringXrightOrigin = xmin + gridWidth\n",
    "        ringYtopOrigin = ymax\n",
    "        ringYbottomOrigin = ymax-gridHeight\n",
    "        \n",
    "        # create output file\n",
    "        outDriver = ogr.GetDriverByName('ESRI Shapefile')\n",
    "#         if os.path.exists(self.vector_output_dir + outputGridfn):\n",
    "#             print(\"Deleting pre-existing shapefile: {}{}{}.shp\".format(self.vector_output_dir,outputGridfn+\"/\", outputGridfn))\n",
    "#             shutil.rmtree(self.vector_output_dir + outputGridfn,  ignore_errors=True)\n",
    "            \n",
    "#         if os.path.isdir(self.vector_output_dir):\n",
    "#             print(\"Deleting pre-existing folder: {}{}/\".format(self.vector_output_dir, outputGridfn))\n",
    "#             shutil.rmtree(self.vector_output_dir + outputGridfn,  ignore_errors=True)\n",
    "#         else:\n",
    "#             os.makedirs(self.vector_output_dir)\n",
    "#             print(\"Created new directory: {}{}/\".format(self.vector_output_dir, outputGridfn))\n",
    "            \n",
    "            \n",
    "        outDataSource = outDriver.CreateDataSource(self.vector_output_dir + outputGridfn + \".shp\")\n",
    "        outLayer = outDataSource.CreateLayer(outputGridfn,geom_type=ogr.wkbPolygon)\n",
    "        featureDefn = outLayer.GetLayerDefn()\n",
    "        \n",
    "        print(f'--------- Generating grid at {resolution}mx{resolution}m ...')\n",
    "\n",
    "        # create grid cells\n",
    "        countcols = 0\n",
    "        while countcols < cols:\n",
    "            countcols += 1\n",
    "\n",
    "            # reset envelope for rows\n",
    "            ringYtop = ringYtopOrigin\n",
    "            ringYbottom =ringYbottomOrigin\n",
    "            countrows = 0\n",
    "\n",
    "            while countrows < rows:\n",
    "                countrows += 1\n",
    "                ring = ogr.Geometry(ogr.wkbLinearRing)\n",
    "                ring.AddPoint(ringXleftOrigin, ringYtop)\n",
    "                ring.AddPoint(ringXrightOrigin, ringYtop)\n",
    "                ring.AddPoint(ringXrightOrigin, ringYbottom)\n",
    "                ring.AddPoint(ringXleftOrigin, ringYbottom)\n",
    "                ring.AddPoint(ringXleftOrigin, ringYtop)\n",
    "                poly = ogr.Geometry(ogr.wkbPolygon)\n",
    "                poly.AddGeometry(ring)\n",
    "\n",
    "                # add new geom to layer\n",
    "                outFeature = ogr.Feature(featureDefn)\n",
    "                outFeature.SetGeometry(poly)\n",
    "                outLayer.CreateFeature(outFeature)\n",
    "                outFeature.Destroy\n",
    "\n",
    "                # new envelope for next poly\n",
    "                ringYtop = ringYtop - gridHeight\n",
    "                ringYbottom = ringYbottom - gridHeight\n",
    "\n",
    "            # new envelope for next poly\n",
    "            ringXleftOrigin = ringXleftOrigin + gridWidth\n",
    "            ringXrightOrigin = ringXrightOrigin + gridWidth\n",
    "        # Close DataSources\n",
    "        outDataSource.Destroy()\n",
    "        print('--------- Grid generation complete. Saving to disk...')        \n",
    "        \n",
    "        \n",
    "#         # clip to boundary\n",
    "        output = gpd.read_file(self.vector_output_dir + outputGridfn +\".shp\")\n",
    "        \n",
    "        output = output.set_crs(\"epsg:32642\").to_crs(out_crs).reset_index().rename(columns={\"index\": id_col}).drop('FID', axis=1)\n",
    "        output = gpd.sjoin(output, self.gdf.to_crs(\"epsg:4326\")).drop('index_right', axis=1)\n",
    "        \n",
    "        \n",
    "#         output = gpd.sjoin(output.to_crs(\"epsg:4326\"), self.gdf).drop('index_right', axis=1)\n",
    "\n",
    "        \n",
    "#         print(\"Saving generated shapefile to disk..\")\n",
    "#         if os.path.exists(self.vector_output_dir + outputGridfn):\n",
    "#             directory = self.vector_output_dir + outputGridfn\n",
    "#             for f in os.listdir(directory):\n",
    "#                 os.remove(os.path.join(directory, f))\n",
    "\n",
    "        self.output = output\n",
    "        if id_col in output.columns:  \n",
    "            output = output.drop(id_col, axis=1).reset_index().drop('index', axis=1).reset_index().rename(columns={'index': id_col})\n",
    "        else:\n",
    "            output = output.reset_index().drop('index', axis=1).reset_index().rename(columns={'index': id_col})\n",
    "        output.to_file(self.vector_output_dir + outputGridfn + \".gpkg\", driver='GPKG')\n",
    "        self._clean_dir()\n",
    "        print(\"--------- Successfully saved to disk: {}\".format(self.vector_output_dir + outputGridfn+ \".gpkg\"))\n",
    "        return output\n",
    "\n",
    "    def subset_grid(self, grid_path, aoi_path):\n",
    "        aoi = gpd.read_file(aoi_path)\n",
    "        grid = gpd.read_file(grid_path)\n",
    "        \n",
    "        subset = gpd.sjoin(grid, aoi).drop('index_right', axis=1)\n",
    "        subset.to_file(grid_path, driver='GPKG')\n",
    "        \n",
    "    def _read_file(self):\n",
    "        raw = gpd.read_file(self.raw)\n",
    "#         geom = box(*raw.total_bounds)\n",
    "#         gdf = gpd.GeoDataFrame([{\"geometry\": geom}])\n",
    "#         gdf = gdf.set_crs(\"epsg:4326\")\n",
    "        self.gdf = raw.to_crs(\"epsg:32642\")\n",
    "    \n",
    "    def _make_dir(self):\n",
    "        Path(self.vector_output_dir).mkdir(parents=True, exist_ok=True)\n",
    "    \n",
    "    def _clean_dir(self):\n",
    "        test = os.listdir(self.vector_output_dir)\n",
    "\n",
    "        for item in test:\n",
    "            if item.endswith(\".shp\"):\n",
    "                os.remove(os.path.join(self.vector_output_dir, item))\n",
    "            if item.endswith(\".shx\"):\n",
    "                os.remove(os.path.join(self.vector_output_dir, item))\n",
    "            if item.endswith(\".dbf\"):\n",
    "                os.remove(os.path.join(self.vector_output_dir, item))\n",
    "        \n"
   ]
  },
  {
   "cell_type": "code",
   "execution_count": null,
   "id": "13b9c4a2",
   "metadata": {},
   "outputs": [],
   "source": []
  }
 ],
 "metadata": {
  "kernelspec": {
   "display_name": "Python 3",
   "language": "python",
   "name": "python3"
  },
  "language_info": {
   "codemirror_mode": {
    "name": "ipython",
    "version": 3
   },
   "file_extension": ".py",
   "mimetype": "text/x-python",
   "name": "python",
   "nbconvert_exporter": "python",
   "pygments_lexer": "ipython3",
   "version": "3.9.12"
  }
 },
 "nbformat": 4,
 "nbformat_minor": 5
}
